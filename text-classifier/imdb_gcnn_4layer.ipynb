{
 "cells": [
  {
   "cell_type": "code",
   "execution_count": 1,
   "metadata": {
    "scrolled": false
   },
   "outputs": [
    {
     "name": "stderr",
     "output_type": "stream",
     "text": [
      "Using TensorFlow backend.\n"
     ]
    },
    {
     "name": "stdout",
     "output_type": "stream",
     "text": [
      "Loading data...\n",
      "(11586, 'train sequences')\n",
      "(11586, 'test sequences')\n",
      "('x_train shape:', (11586, 500))\n",
      "('x_test shape:', (11586, 500))\n",
      "Build model...\n",
      "_________________________________________________________________\n",
      "Layer (type)                 Output Shape              Param #   \n",
      "=================================================================\n",
      "embedding_1 (Embedding)      (None, 500, 32)           16000     \n",
      "_________________________________________________________________\n",
      "dropout_1 (Dropout)          (None, 500, 32)           0         \n",
      "_________________________________________________________________\n",
      "gcnn1 (GCNN)                 (None, 500, 100)          19400     \n",
      "_________________________________________________________________\n",
      "gcnn2 (GCNN)                 (None, 500, 100)          60200     \n",
      "_________________________________________________________________\n",
      "gcnn3 (GCNN)                 (None, 500, 100)          60200     \n",
      "_________________________________________________________________\n",
      "gcnn4 (GCNN)                 (None, 500, 100)          60200     \n",
      "_________________________________________________________________\n",
      "flatten_1 (Flatten)          (None, 50000)             0         \n",
      "_________________________________________________________________\n",
      "dropout_2 (Dropout)          (None, 50000)             0         \n",
      "_________________________________________________________________\n",
      "dense_1 (Dense)              (None, 100)               5000100   \n",
      "_________________________________________________________________\n",
      "dropout_3 (Dropout)          (None, 100)               0         \n",
      "_________________________________________________________________\n",
      "dense_2 (Dense)              (None, 1)                 101       \n",
      "=================================================================\n",
      "Total params: 5,216,201.0\n",
      "Trainable params: 5,216,201.0\n",
      "Non-trainable params: 0.0\n",
      "_________________________________________________________________\n",
      "None\n",
      "Train on 11586 samples, validate on 11586 samples\n",
      "Epoch 1/20\n",
      "11586/11586 [==============================] - 1051s - loss: 0.6616 - acc: 0.6034 - val_loss: 0.6194 - val_acc: 0.6491\n",
      "Epoch 2/20\n",
      "11586/11586 [==============================] - 1033s - loss: 0.6177 - acc: 0.6553 - val_loss: 0.6208 - val_acc: 0.6422\n",
      "Epoch 3/20\n",
      "11586/11586 [==============================] - 1002s - loss: 0.6014 - acc: 0.6712 - val_loss: 0.6185 - val_acc: 0.6636\n",
      "Epoch 4/20\n",
      "11586/11586 [==============================] - 1033s - loss: 0.5882 - acc: 0.6795 - val_loss: 0.6082 - val_acc: 0.6735\n",
      "Epoch 5/20\n",
      "11586/11586 [==============================] - 1047s - loss: 0.5851 - acc: 0.6876 - val_loss: 0.6151 - val_acc: 0.6694\n",
      "Epoch 6/20\n",
      "11586/11586 [==============================] - 1059s - loss: 0.5774 - acc: 0.6899 - val_loss: 0.6007 - val_acc: 0.6714\n",
      "Epoch 7/20\n",
      "11586/11586 [==============================] - 1023s - loss: 0.5671 - acc: 0.6979 - val_loss: 0.6161 - val_acc: 0.6570\n",
      "Epoch 8/20\n",
      "11586/11586 [==============================] - 1082s - loss: 0.5591 - acc: 0.7040 - val_loss: 0.6489 - val_acc: 0.6472\n",
      "Epoch 9/20\n",
      "11586/11586 [==============================] - 1076s - loss: 0.5641 - acc: 0.6989 - val_loss: 0.6370 - val_acc: 0.6592\n",
      "Epoch 10/20\n",
      "11586/11586 [==============================] - 1099s - loss: 0.5343 - acc: 0.7221 - val_loss: 0.6192 - val_acc: 0.6788\n",
      "Epoch 11/20\n",
      "11586/11586 [==============================] - 1088s - loss: 0.5273 - acc: 0.7246 - val_loss: 0.6288 - val_acc: 0.6680\n",
      "Epoch 12/20\n",
      "11586/11586 [==============================] - 1094s - loss: 0.5145 - acc: 0.7389 - val_loss: 0.6159 - val_acc: 0.6681\n",
      "Epoch 13/20\n",
      "11586/11586 [==============================] - 1094s - loss: 0.5027 - acc: 0.7466 - val_loss: 0.6341 - val_acc: 0.6681\n",
      "Epoch 14/20\n",
      "11586/11586 [==============================] - 1089s - loss: 0.4800 - acc: 0.7584 - val_loss: 0.6479 - val_acc: 0.6540\n",
      "Epoch 15/20\n",
      "11586/11586 [==============================] - 1095s - loss: 0.4843 - acc: 0.7597 - val_loss: 0.6339 - val_acc: 0.6701\n",
      "Epoch 16/20\n",
      "11586/11586 [==============================] - 1066s - loss: 0.4619 - acc: 0.7803 - val_loss: 0.6623 - val_acc: 0.6716\n",
      "Epoch 17/20\n",
      "11586/11586 [==============================] - 1074s - loss: 0.4600 - acc: 0.7769 - val_loss: 0.6819 - val_acc: 0.6627\n",
      "Epoch 18/20\n",
      "11586/11586 [==============================] - 1089s - loss: 0.4453 - acc: 0.7900 - val_loss: 0.6656 - val_acc: 0.6690\n",
      "Epoch 19/20\n",
      "11586/11586 [==============================] - 1071s - loss: 0.4373 - acc: 0.7950 - val_loss: 0.7251 - val_acc: 0.6482\n",
      "Epoch 20/20\n",
      "11586/11586 [==============================] - 1037s - loss: 0.4246 - acc: 0.8061 - val_loss: 0.6906 - val_acc: 0.6776\n"
     ]
    },
    {
     "data": {
      "text/plain": [
       "<keras.callbacks.History at 0x7f7082c62d10>"
      ]
     },
     "execution_count": 1,
     "metadata": {},
     "output_type": "execute_result"
    }
   ],
   "source": [
    "from __future__ import absolute_import\n",
    "\n",
    "import numpy as np\n",
    "import sys\n",
    "sys.path.append('datasets')\n",
    "\n",
    "from keras.models import Sequential\n",
    "from keras.layers import Dense\n",
    "from keras.layers import Flatten\n",
    "from keras.layers import Dropout\n",
    "from keras.constraints import maxnorm\n",
    "from keras.layers.convolutional import Conv1D\n",
    "from keras.layers.convolutional import MaxPooling1D\n",
    "from keras.layers.embeddings import Embedding\n",
    "from keras.preprocessing import sequence\n",
    "\n",
    "import codeforces\n",
    "from gcnn import GCNN\n",
    "\n",
    "batch_size = 64\n",
    "max_len = 500 \n",
    "window_size = 3\n",
    "top_words = 500 # top 2k\n",
    "embed_dim = 32\n",
    "gcnn_size = 100\n",
    "epochs = 20\n",
    "dropout = 0.2\n",
    "\n",
    "# fix random seed for reproducibility\n",
    "np.random.seed(7)\n",
    "# load the dataset but only keep the top n words, zero the rest\n",
    "print('Loading data...')\n",
    "(x_train, y_train), (x_test, y_test) = codeforces.load_data(num_words=top_words)\n",
    "print(len(x_train), 'train sequences')\n",
    "print(len(x_test), 'test sequences') \n",
    "\n",
    "# truncate and pad input sequences\n",
    "x_train = sequence.pad_sequences(x_train, maxlen=max_len)\n",
    "x_test = sequence.pad_sequences(x_test, maxlen=max_len)\n",
    "print('x_train shape:', x_train.shape)\n",
    "print('x_test shape:', x_test.shape)\n",
    "\n",
    "print('Build model...')\n",
    "model = Sequential()\n",
    "model.add(Embedding(top_words, embed_dim, input_length=max_len))\n",
    "model.add(Dropout(dropout)) \n",
    "model.add(GCNN(gcnn_size, window_size=window_size, name='gcnn1'))\n",
    "model.add(GCNN(gcnn_size, window_size=window_size, name='gcnn2'))\n",
    "model.add(GCNN(gcnn_size, window_size=window_size, name='gcnn3'))\n",
    "model.add(GCNN(gcnn_size, window_size=window_size, name='gcnn4'))\n",
    "model.add(Flatten())\n",
    "model.add(Dropout(dropout)) \n",
    "model.add(Dense(100, activation='relu', kernel_constraint=maxnorm(3.)))\n",
    "model.add(Dropout(dropout))          \n",
    "model.add(Dense(1, activation='sigmoid'))\n",
    "model.compile(loss='binary_crossentropy', optimizer='adam', metrics=['accuracy'])\n",
    "print(model.summary())\n",
    "\n",
    "model.fit(x_train, y_train, batch_size=batch_size, epochs=epochs, validation_data=(x_test, y_test))"
   ]
  },
  {
   "cell_type": "code",
   "execution_count": 6,
   "metadata": {},
   "outputs": [
    {
     "name": "stdout",
     "output_type": "stream",
     "text": [
      "(0.70600080547724531, 0.74216765453005928, 0.72363261093911257, None)\n"
     ]
    }
   ],
   "source": [
    "#评估模型好坏\n",
    "#precision = TP / (TP + FP)\n",
    "#recall = TP / (TP + FN)\n",
    "#accuracy = (TP + TN) / (TP + FP + TN + FN)\n",
    "#F1 Score = 2*P*R/(P+R)，其中P和R分别为 precision 和 recall\n",
    "import numpy as np\n",
    "from sklearn.metrics import precision_recall_fscore_support\n",
    "y_preds = np.round(model.predict(x_test))\n",
    "result = precision_recall_fscore_support(y_test, y_preds, average='binary')\n",
    "print(result)"
   ]
  },
  {
   "cell_type": "code",
   "execution_count": 5,
   "metadata": {},
   "outputs": [
    {
     "data": {
      "image/png": "[encoded data removed]",
      "text/plain": [
       "<matplotlib.figure.Figure at 0x7f823bb97f90>"
      ]
     },
     "metadata": {},
     "output_type": "display_data"
    }
   ],
   "source": [
    "#ROC曲线和AUC\n",
    "import matplotlib.pyplot as plt\n",
    "from sklearn.metrics import roc_curve, auc\n",
    "\n",
    "fpr={}\n",
    "tpr={}\n",
    "roc_auc={}\n",
    "\n",
    "y_score1 = model.predict(x_test)\n",
    "y_score2 = model.predict(x_train)\n",
    "\n",
    "fpr['test'], tpr['test'], _ = roc_curve(y_test, y_score1)\n",
    "roc_auc['test'] = auc(fpr['test'], tpr['test'])\n",
    "fpr['train'], tpr['train'], _ = roc_curve(y_train, y_score2)\n",
    "roc_auc['train'] = auc(fpr['train'], tpr['train'])\n",
    "    \n",
    "plt.figure()\n",
    "lw = 2\n",
    "plt.plot(fpr['test'], tpr['test'], color='aqua',\n",
    "         lw=lw, label='Test ROC curve (area = %0.2f)' % roc_auc['test'])\n",
    "plt.plot(fpr['train'], tpr['train'], color='darkorange',\n",
    "         lw=lw, label='Train ROC curve (area = %0.2f)' % roc_auc['train'])\n",
    "plt.plot([0, 1], [0, 1], color='navy', lw=lw, linestyle='--')\n",
    "\n",
    "tick_nb = 20\n",
    "ticks = [x/tick_nb for x in range(1, tick_nb)]\n",
    "labels = ['%.1f'%tick if tick*10%1==0 else '' for tick in ticks]\n",
    "plt.xticks(ticks, labels)\n",
    "plt.yticks(ticks, labels)\n",
    "\n",
    "plt.xlabel('False Positive Rate')\n",
    "plt.ylabel('True Positive Rate')\n",
    "plt.title('ROC for codeforces classification')\n",
    "plt.legend(loc=\"lower right\")\n",
    "plt.grid()\n",
    "plt.show()"
   ]
  }
 ],
 "metadata": {
  "kernelspec": {
   "display_name": "Python 2",
   "language": "python",
   "name": "python2"
  },
  "language_info": {
   "codemirror_mode": {
    "name": "ipython",
    "version": 2
   },
   "file_extension": ".py",
   "mimetype": "text/x-python",
   "name": "python",
   "nbconvert_exporter": "python",
   "pygments_lexer": "ipython2",
   "version": "2.7.13"
  }
 },
 "nbformat": 4,
 "nbformat_minor": 2
}
