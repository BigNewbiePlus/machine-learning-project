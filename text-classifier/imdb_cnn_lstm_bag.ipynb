{
 "cells": [
  {
   "cell_type": "code",
   "execution_count": 1,
   "metadata": {
    "collapsed": false
   },
   "outputs": [
    {
     "name": "stdout",
     "output_type": "stream",
     "text": [
      "block\n"
     ]
    },
    {
     "name": "stderr",
     "output_type": "stream",
     "text": [
      "Using TensorFlow backend.\n"
     ]
    },
    {
     "name": "stdout",
     "output_type": "stream",
     "text": [
      "block success\n"
     ]
    }
   ],
   "source": [
    "import codeforces\n",
    "import numpy as np\n",
    "from keras.preprocessing import sequence\n",
    "\n",
    "# fix random seed for reproducibility\n",
    "np.random.seed(7)\n",
    "# load the dataset but only keep the top n words, zero the rest\n",
    "top_words = 2000\n",
    "(X_train, y_train), (X_test, y_test) = codeforces.load_data(path='../codeforces_full.pkl',num_words=top_words)\n",
    "# truncate and pad input sequences\n",
    "max_review_length = 1000\n",
    "X_train = sequence.pad_sequences(X_train, maxlen=max_review_length)\n",
    "X_test = sequence.pad_sequences(X_test, maxlen=max_review_length)\n",
    "print('block success')\n"
   ]
  },
  {
   "cell_type": "code",
   "execution_count": 7,
   "metadata": {
    "collapsed": false
   },
   "outputs": [
    {
     "name": "stdout",
     "output_type": "stream",
     "text": [
      "block success\n"
     ]
    }
   ],
   "source": [
    "def split_by_cate(x , y):\n",
    "    pos_data=[]\n",
    "    neg_data=[]\n",
    "    for i in range(len(y)):\n",
    "        if(y[i]==1):\n",
    "            pos_data.append(x[i])\n",
    "        else:\n",
    "            neg_data.append(x[i])\n",
    "    return pos_data, neg_data\n",
    "# folder generate: 处理数据不均衡问题\n",
    "def fold_generator(x_train, x_test, y_train, y_test, shuffle):\n",
    "    pos_data=[]\n",
    "    neg_data=[]\n",
    "    pos_data[0:0], neg_data[0:0] = split_by_cate(x_train, y_train)\n",
    "    pos_data[0:0], neg_data[0:0] = split_by_cate(x_test, y_test)\n",
    "            \n",
    "    pos_data = np.asarray(pos_data)\n",
    "    neg_data = np.asarray(neg_data)\n",
    "    pos_sample_index = np.arange(len(pos_data))\n",
    "    neg_sample_index = np.arange(len(neg_data))\n",
    "    if shuffle:\n",
    "        np.random.shuffle(pos_sample_index)\n",
    "        np.random.shuffle(neg_sample_index)\n",
    "    fold_size = len(neg_data)\n",
    "    fold_num = len(pos_data)//len(neg_data)\n",
    "    counter=0\n",
    "    while True:\n",
    "        #先从正样例取出和负样例等量数据\n",
    "        pos_fold_index = pos_sample_index[fold_size*counter:fold_size*(counter+1)]\n",
    "        neg_fold_index = neg_sample_index\n",
    "        x_pos_fold = pos_data[pos_fold_index,]\n",
    "        x_neg_fold = neg_data[neg_fold_index, ]\n",
    "        \n",
    "        x_fold= np.row_stack([x_pos_fold, x_neg_fold])\n",
    "        y_fold=np.ones(fold_size*2, dtype=np.int16)\n",
    "        y_fold[fold_size:2*fold_size]=0\n",
    "        \n",
    "        fold_index = np.arange(fold_size*2)\n",
    "        np.random.shuffle(fold_index)\n",
    "        \n",
    "        data_num = 2*fold_size\n",
    "        train_num = round(data_num*0.8)\n",
    "        xtr = x_fold[fold_index[0:train_num]]\n",
    "        ytr = y_fold[fold_index[0:train_num]]\n",
    "        xte = x_fold[fold_index[train_num:data_num]]\n",
    "        yte = y_fold[fold_index[train_num:data_num]]\n",
    "        counter +=1\n",
    "        yield xtr,ytr,xte,yte\n",
    "        if (counter == fold_num):\n",
    "            if shuffle:\n",
    "                np.random.shuffle(pos_sample_index)\n",
    "                np.random.shuffle(neg_sample_index)\n",
    "            counter = 0\n",
    "        \n",
    "        \n",
    "    \n",
    "## Batch generators ##################################################################################################################################\n",
    "\n",
    "def batch_generator(X, y, batch_size, shuffle):\n",
    "    #chenglong code for fiting from generator (https://www.kaggle.com/c/talkingdata-mobile-user-demographics/forums/t/22567/neural-network-for-sparse-matrices)\n",
    "    number_of_batches =len(X)//batch_size\n",
    "    counter = 0\n",
    "    sample_index = np.arange(len(X))\n",
    "    if shuffle:\n",
    "        np.random.shuffle(sample_index)\n",
    "    while True:\n",
    "        batch_index = sample_index[batch_size*counter:batch_size*(counter+1)]\n",
    "        X_batch = X[batch_index,:]\n",
    "        y_batch = y[batch_index]\n",
    "        counter += 1\n",
    "        yield X_batch, y_batch\n",
    "        if (counter == number_of_batches):\n",
    "            if shuffle:\n",
    "                np.random.shuffle(sample_index)\n",
    "            counter = 0\n",
    "\n",
    "def batch_generatorp(X, batch_size, shuffle):\n",
    "    number_of_batches = len(X)//batch_size\n",
    "    counter = 0\n",
    "    sample_index = np.arange(len(X))\n",
    "    while True:\n",
    "        batch_index = sample_index[batch_size * counter:batch_size * (counter + 1)]\n",
    "        X_batch = X[batch_index, :]\n",
    "        counter += 1\n",
    "        yield X_batch\n",
    "        if (counter == number_of_batches):\n",
    "            counter = 0\n",
    "print('block success')"
   ]
  },
  {
   "cell_type": "code",
   "execution_count": 8,
   "metadata": {
    "collapsed": false
   },
   "outputs": [
    {
     "name": "stdout",
     "output_type": "stream",
     "text": [
      "block success\n"
     ]
    }
   ],
   "source": [
    "# LSTM and CNN for sequence classification in the IMDB dataset\n",
    "import numpy\n",
    "from keras.models import Sequential\n",
    "from keras.layers import Dense\n",
    "from keras.layers import LSTM\n",
    "from keras.layers.convolutional import Conv1D\n",
    "from keras.layers.convolutional import MaxPooling1D\n",
    "from keras.layers.embeddings import Embedding\n",
    "from keras.preprocessing import sequence\n",
    "\n",
    "def seq_cla_nn_model():\n",
    "    #LSTM and CNN for sequence classification model\n",
    "    # create the model\n",
    "    embedding_vecor_length = 200\n",
    "    model = Sequential()\n",
    "    model.add(Embedding(top_words, embedding_vecor_length, input_length=max_review_length))\n",
    "    model.add(Conv1D(padding=\"same\", kernel_size=3,activation='relu',filters=64))\n",
    "    model.add(MaxPooling1D(pool_size=2))\n",
    "    model.add(LSTM(200))\n",
    "    model.add(Dense(1, activation='sigmoid'))\n",
    "    model.compile(loss='binary_crossentropy', optimizer='adam', metrics=['accuracy'])\n",
    "    return model\n",
    "print('block success')"
   ]
  },
  {
   "cell_type": "code",
   "execution_count": null,
   "metadata": {
    "collapsed": false
   },
   "outputs": [
    {
     "name": "stdout",
     "output_type": "stream",
     "text": [
      "_________________________________________________________________\n",
      "Layer (type)                 Output Shape              Param #   \n",
      "=================================================================\n",
      "embedding_2 (Embedding)      (None, 1000, 200)         400000    \n",
      "_________________________________________________________________\n",
      "conv1d_2 (Conv1D)            (None, 1000, 64)          38464     \n",
      "_________________________________________________________________\n",
      "max_pooling1d_2 (MaxPooling1 (None, 500, 64)           0         \n",
      "_________________________________________________________________\n",
      "lstm_2 (LSTM)                (None, 200)               212000    \n",
      "_________________________________________________________________\n",
      "dense_2 (Dense)              (None, 1)                 201       \n",
      "=================================================================\n",
      "Total params: 650,665.0\n",
      "Trainable params: 650,665.0\n",
      "Non-trainable params: 0.0\n",
      "_________________________________________________________________\n",
      "None\n",
      "model_0 create success!\n",
      "Train model begin:\n",
      "Training model: model_0\n",
      "Epoch 1/10\n",
      "  4/289 [..............................] - ETA: 6753s - loss: 0.6932 - acc: 0.5352"
     ]
    }
   ],
   "source": [
    "def concate(val, te):\n",
    "    if val == None:\n",
    "        val = te\n",
    "    else:\n",
    "        val = np.concatenate((val,te),axis=0)\n",
    "    return val\n",
    "\n",
    "def createBaggingModels(subModelCount):\n",
    "    \"\"\"Helper function to create a dictionary of submodels for use in the bagging training\"\"\"\n",
    "    bagModels = {}\n",
    "    for i in range(subModelCount):\n",
    "        name = \"model_%d\"%(i)\n",
    "        bagModels[name] = seq_cla_nn_model()\n",
    "        if i==0:\n",
    "            print(bagModels[name].summary())\n",
    "        print(\"%s create success!\"%(name))\n",
    "    return bagModels\n",
    "\n",
    "def BaggingAverage(xval,models, verbose = False):\n",
    "    \"\"\"Average the probabilities for a given test sample across models to finalize the prediction\"\"\" \n",
    "    results = []\n",
    "    for _,model in models.items():\n",
    "        result = model.predict(xval)\n",
    "        results.append(result)\n",
    "    results = np.column_stack(results)\n",
    "    results = np.mean(results, axis=1)\n",
    "    return results\n",
    "\n",
    "def BaggingVote(xval, models, verbose = False):\n",
    "    \"\"\"Vote based on the probabilities for a given test sample across models to finalize the prediction\"\"\"\n",
    "    result = [np.round(model.predict(xval)) for _, model in models.items()]\n",
    "    result = np.column_stack(result)\n",
    "    result = np.round(np.mean(result,axis=1))\n",
    "    return result\n",
    "\n",
    "subModelCount = 1\n",
    "models = createBaggingModels(subModelCount)\n",
    "\n",
    "# Train all the models\n",
    "nepochs=10\n",
    "toTrain = models.keys() \n",
    "data_generate = fold_generator(X_train, X_test, y_train, y_test, shuffle=True)\n",
    "\n",
    "xval = None\n",
    "yval = None\n",
    "print('Train model begin:')\n",
    "for k in toTrain: \n",
    "    print(\"Training model: \" + k)\n",
    "    xtr,ytr,xte,yte = next(data_generate)\n",
    "    \n",
    "    models[k].fit_generator(generator = batch_generator(xtr, ytr, 64, True),\n",
    "                            verbose = 1,\n",
    "                            steps_per_epoch = len(xtr)//64,\n",
    "                            epochs = nepochs,\n",
    "                              )\n",
    "    scores = models[k].evaluate(xte, yte, verbose=0)\n",
    "    print(\"mode %s Accuracy: %.2f%%\" % (k, scores[1]*100))\n",
    "    xval = concate(xval, xte)\n",
    "    yval = concate(yval, yte)\n",
    "   \n",
    "    models[k].save_weights(\"model-\" + k + \".hdf5\", overwrite=True)\n",
    "# test bagging\n",
    "\n",
    "ave_pred = BaggingAverage(xval, models, verbose = False)\n",
    "vote_pred = BaggingVote(xval, models, verbose = False)\n",
    "print('block success!')"
   ]
  },
  {
   "cell_type": "code",
   "execution_count": 9,
   "metadata": {
    "collapsed": false
   },
   "outputs": [
    {
     "name": "stdout",
     "output_type": "stream",
     "text": [
      "(0.67571533382245053, 0.78684322938914997, 0.7270574304322085, None)\n",
      "(0.67571533382245053, 0.78684322938914997, 0.7270574304322085, None)\n"
     ]
    },
    {
     "data": {
      "image/png": "[encoded data removed]",
      "text/plain": [
       "<matplotlib.figure.Figure at 0x7f9cd9e64518>"
      ]
     },
     "metadata": {},
     "output_type": "display_data"
    }
   ],
   "source": [
    "from sklearn.metrics import precision_recall_fscore_support\n",
    "\n",
    "ave_result = precision_recall_fscore_support(yval, np.round(ave_pred), average='binary')\n",
    "vote_result = precision_recall_fscore_support(yval, np.round(vote_pred), average='binary')\n",
    "print(ave_result)\n",
    "print(vote_result)\n",
    "#ROC曲线和AUC\n",
    "import matplotlib.pyplot as plt\n",
    "from sklearn.metrics import roc_curve, auc\n",
    "\n",
    "fpr={}\n",
    "tpr={}\n",
    "roc_auc={}\n",
    "\n",
    "y_score1 = ave_pred\n",
    "y_score2 = vote_pred\n",
    "\n",
    "fpr['ave'], tpr['ave'], _ = roc_curve(yval, y_score1)\n",
    "roc_auc['ave'] = auc(fpr['ave'], tpr['ave'])\n",
    "fpr['vote'], tpr['vote'], _ = roc_curve(yval, y_score2)\n",
    "roc_auc['vote'] = auc(fpr['vote'], tpr['vote'])\n",
    "    \n",
    "plt.figure()\n",
    "lw = 2\n",
    "plt.plot(fpr['ave'], tpr['ave'], color='aqua',\n",
    "         lw=lw, label='Average Bagging ROC curve (area = %0.2f)' % roc_auc['ave'])\n",
    "plt.plot(fpr['vote'], tpr['vote'], color='darkorange',\n",
    "         lw=lw, label='Vote Bagging ROC curve (area = %0.2f)' % roc_auc['vote'])\n",
    "plt.plot([0, 1], [0, 1], color='navy', lw=lw, linestyle='--')\n",
    "\n",
    "tick_nb = 20\n",
    "ticks = [x/tick_nb for x in range(1, tick_nb)]\n",
    "labels = ['%.1f'%tick if tick*10%1==0 else '' for tick in ticks]\n",
    "plt.xticks(ticks, labels)\n",
    "plt.yticks(ticks, labels)\n",
    "\n",
    "plt.xlabel('False Positive Rate')\n",
    "plt.ylabel('True Positive Rate')\n",
    "plt.title('ROC for codeforces classification')\n",
    "plt.legend(loc=\"lower right\")\n",
    "plt.grid()\n",
    "plt.show()"
   ]
  }
 ],
 "metadata": {
  "anaconda-cloud": {},
  "kernelspec": {
   "display_name": "Python 2",
   "language": "python",
   "name": "python2"
  },
  "language_info": {
   "codemirror_mode": {
    "name": "ipython",
    "version": 2
   },
   "file_extension": ".py",
   "mimetype": "text/x-python",
   "name": "python",
   "nbconvert_exporter": "python",
   "pygments_lexer": "ipython2",
   "version": "2.7.13"
  }
 },
 "nbformat": 4,
 "nbformat_minor": 1
}
