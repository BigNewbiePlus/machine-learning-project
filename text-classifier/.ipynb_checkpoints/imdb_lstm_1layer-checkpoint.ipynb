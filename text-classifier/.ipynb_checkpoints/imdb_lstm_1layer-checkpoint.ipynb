{
 "cells": [
  {
   "cell_type": "code",
   "execution_count": null,
   "metadata": {},
   "outputs": [
    {
     "name": "stderr",
     "output_type": "stream",
     "text": [
      "Using TensorFlow backend.\n",
      "/home/lupeng/anaconda2/lib/python2.7/site-packages/ipykernel_launcher.py:22: UserWarning: The `dropout` argument is no longer support in `Embedding`. You can apply a `keras.layers.SpatialDropout1D` layer right after the `Embedding` layer to get the same behavior.\n",
      "/home/lupeng/anaconda2/lib/python2.7/site-packages/ipykernel_launcher.py:23: UserWarning: Update your `LSTM` call to the Keras 2 API: `LSTM(100, dropout=0.2, recurrent_dropout=0.2)`\n"
     ]
    },
    {
     "name": "stdout",
     "output_type": "stream",
     "text": [
      "_________________________________________________________________\n",
      "Layer (type)                 Output Shape              Param #   \n",
      "=================================================================\n",
      "embedding_1 (Embedding)      (None, 500, 32)           160000    \n",
      "_________________________________________________________________\n",
      "lstm_1 (LSTM)                (None, 100)               53200     \n",
      "_________________________________________________________________\n",
      "dense_1 (Dense)              (None, 1)                 101       \n",
      "=================================================================\n",
      "Total params: 213,301.0\n",
      "Trainable params: 213,301\n",
      "Non-trainable params: 0.0\n",
      "_________________________________________________________________\n",
      "None\n"
     ]
    },
    {
     "name": "stderr",
     "output_type": "stream",
     "text": [
      "/home/lupeng/anaconda2/lib/python2.7/site-packages/keras/models.py:826: UserWarning: The `nb_epoch` argument in `fit` has been renamed `epochs`.\n",
      "  warnings.warn('The `nb_epoch` argument in `fit` '\n"
     ]
    },
    {
     "name": "stdout",
     "output_type": "stream",
     "text": [
      "Train on 25000 samples, validate on 25000 samples\n",
      "Epoch 1/10\n",
      "25000/25000 [==============================] - 2530s - loss: 0.5113 - acc: 0.7441 - val_loss: 0.4258 - val_acc: 0.8100\n",
      "Epoch 2/10\n",
      "25000/25000 [==============================] - 2107s - loss: 0.3735 - acc: 0.8441 - val_loss: 0.3732 - val_acc: 0.8433\n",
      "Epoch 3/10\n",
      "25000/25000 [==============================] - 2088s - loss: 0.3451 - acc: 0.8601 - val_loss: 0.4033 - val_acc: 0.8256\n",
      "Epoch 4/10\n",
      "25000/25000 [==============================] - 2110s - loss: 0.3610 - acc: 0.8446 - val_loss: 0.3991 - val_acc: 0.8221\n",
      "Epoch 5/10\n",
      "25000/25000 [==============================] - 2021s - loss: 0.3873 - acc: 0.8262 - val_loss: 0.4367 - val_acc: 0.7982\n",
      "Epoch 6/10\n",
      "25000/25000 [==============================] - 1981s - loss: 0.4274 - acc: 0.8072 - val_loss: 0.4991 - val_acc: 0.7510\n",
      "Epoch 7/10\n",
      "25000/25000 [==============================] - 1794s - loss: 0.3187 - acc: 0.8676 - val_loss: 0.3381 - val_acc: 0.8616\n",
      "Epoch 8/10\n",
      "25000/25000 [==============================] - 1824s - loss: 0.2867 - acc: 0.8849 - val_loss: 0.4316 - val_acc: 0.8040\n",
      "Epoch 9/10\n",
      "25000/25000 [==============================] - 1871s - loss: 0.2719 - acc: 0.8904 - val_loss: 0.3405 - val_acc: 0.8702\n",
      "Epoch 10/10\n",
      "25000/25000 [==============================] - 1942s - loss: 0.2476 - acc: 0.9014 - val_loss: 0.3302 - val_acc: 0.8664\n",
      "Accuracy: 86.64%\n"
     ]
    }
   ],
   "source": [
    "# LSTM with dropout for sequence classification in the IMDB dataset\n",
    "import numpy\n",
    "import sys\n",
    "sys.path.append('datasets')\n",
    "\n",
    "from keras.models import Sequential\n",
    "from keras.layers import Dense\n",
    "from keras.layers import LSTM\n",
    "from keras.layers.embeddings import Embedding\n",
    "from keras.preprocessing import sequence\n",
    "from keras.datasets import imdb\n",
    "# fix random seed for reproducibility\n",
    "\n",
    "epochs = 10\n",
    "numpy.random.seed(7)\n",
    "# load the dataset but only keep the top n words, zero the rest\n",
    "top_words = 5000\n",
    "(X_train, y_train), (X_test, y_test) = imdb.load_data(num_words=top_words)\n",
    "# truncate and pad input sequences\n",
    "max_review_length = 500\n",
    "X_train = sequence.pad_sequences(X_train, maxlen=max_review_length)\n",
    "X_test = sequence.pad_sequences(X_test, maxlen=max_review_length)\n",
    "# create the model\n",
    "embed_size = 32\n",
    "model = Sequential()\n",
    "model.add(Embedding(top_words, embed_size, input_length=max_review_length, dropout=0.2))\n",
    "model.add(LSTM(100, dropout_W=0.2, dropout_U=0.2))\n",
    "model.add(Dense(1, activation='sigmoid'))\n",
    "model.compile(loss='binary_crossentropy', optimizer='adam', metrics=['accuracy'])\n",
    "print(model.summary())\n",
    "model.fit(X_train, y_train, epochs=epochs, batch_size=64, validation_data=(X_test, y_test))\n",
    "# Final evaluation of the model\n",
    "scores = model.evaluate(X_test, y_test, verbose=0)\n",
    "print(\"Accuracy: %.2f%%\" % (scores[1]*100))"
   ]
  },
  {
   "cell_type": "code",
   "execution_count": 2,
   "metadata": {},
   "outputs": [
    {
     "name": "stdout",
     "output_type": "stream",
     "text": [
      "(0.86273267326732672, 0.87136000000000002, 0.86702487562189057, None)\n"
     ]
    }
   ],
   "source": [
    "#评估模型好坏\n",
    "#precision = TP / (TP + FP)\n",
    "#recall = TP / (TP + FN)\n",
    "#accuracy = (TP + TN) / (TP + FP + TN + FN)\n",
    "#F1 Score = 2*P*R/(P+R)，其中P和R分别为 precision 和 recall\n",
    "import numpy as np\n",
    "from sklearn.metrics import precision_recall_fscore_support\n",
    "y_preds = np.round(model.predict(X_test))\n",
    "result = precision_recall_fscore_support(y_test, y_preds, average='binary')\n",
    "print(result)"
   ]
  },
  {
   "cell_type": "code",
   "execution_count": 4,
   "metadata": {},
   "outputs": [
    {
     "data": {
      "image/png": "[encoded data removed]",
      "text/plain": [
       "<matplotlib.figure.Figure at 0x7fd521b38f50>"
      ]
     },
     "metadata": {},
     "output_type": "display_data"
    }
   ],
   "source": [
    "#ROC曲线和AUC\n",
    "import matplotlib.pyplot as plt\n",
    "from sklearn.metrics import roc_curve, auc\n",
    "\n",
    "fpr={}\n",
    "tpr={}\n",
    "roc_auc={}\n",
    "\n",
    "y_score1 = model.predict(X_test)\n",
    "y_score2 = model.predict(X_train)\n",
    "\n",
    "fpr['test'], tpr['test'], _ = roc_curve(y_test, y_score1)\n",
    "roc_auc['test'] = auc(fpr['test'], tpr['test'])\n",
    "fpr['train'], tpr['train'], _ = roc_curve(y_train, y_score2)\n",
    "roc_auc['train'] = auc(fpr['train'], tpr['train'])\n",
    "    \n",
    "plt.figure()\n",
    "lw = 2\n",
    "plt.plot(fpr['test'], tpr['test'], color='aqua',\n",
    "         lw=lw, label='Test ROC curve (area = %0.2f)' % roc_auc['test'])\n",
    "plt.plot(fpr['train'], tpr['train'], color='darkorange',\n",
    "         lw=lw, label='Train ROC curve (area = %0.2f)' % roc_auc['train'])\n",
    "plt.plot([0, 1], [0, 1], color='navy', lw=lw, linestyle='--')\n",
    "plt.xlim([0.0, 1.0])\n",
    "plt.ylim([0.0, 1.05])\n",
    "plt.xlabel('False Positive Rate')\n",
    "plt.ylabel('True Positive Rate')\n",
    "plt.title('ROC for codeforces classification')\n",
    "plt.legend(loc=\"lower right\")\n",
    "plt.grid()\n",
    "plt.show()"
   ]
  }
 ],
 "metadata": {
  "anaconda-cloud": {},
  "kernelspec": {
   "display_name": "Python 2",
   "language": "python",
   "name": "python2"
  },
  "language_info": {
   "codemirror_mode": {
    "name": "ipython",
    "version": 2
   },
   "file_extension": ".py",
   "mimetype": "text/x-python",
   "name": "python",
   "nbconvert_exporter": "python",
   "pygments_lexer": "ipython2",
   "version": "2.7.13"
  }
 },
 "nbformat": 4,
 "nbformat_minor": 1
}
